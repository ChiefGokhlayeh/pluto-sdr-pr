{
 "cells": [
  {
   "cell_type": "markdown",
   "metadata": {
    "id": "v2XOY1GgC0zf"
   },
   "source": [
    "# Ambiguity Plot\n",
    "\n",
    "Goal of this notebook is to quickly visualize the results of the CAF (Cross Ambiguity Function).\n",
    "\n",
    "## Setup\n",
    "\n",
    "First, run some imports of common modules. Also note the import of `rtl_sdr_pr` from this repository. "
   ]
  },
  {
   "cell_type": "code",
   "execution_count": null,
   "metadata": {
    "colab": {
     "base_uri": "https://localhost:8080/"
    },
    "executionInfo": {
     "elapsed": 18190,
     "status": "ok",
     "timestamp": 1620989260730,
     "user": {
      "displayName": "Andreas Meyer",
      "photoUrl": "",
      "userId": "10491456189532430338"
     },
     "user_tz": -120
    },
    "id": "xwIxKBehEV46",
    "outputId": "a0aba1f1-3067-4275-c7d8-6db209dde646"
   },
   "outputs": [],
   "source": [
    "# Setup für Colab\n",
    "\n",
    "from google.colab import drive\n",
    "drive.mount('/content/drive')\n",
    "\n",
    "%cd drive/MyDrive/rtl-sdr-pr/"
   ]
  },
  {
   "cell_type": "code",
   "execution_count": null,
   "metadata": {
    "id": "lt29KdzSC0zo"
   },
   "outputs": [],
   "source": [
    "!pip install --upgrade 'numpy>=1.19.5'\n",
    "!pip install --upgrade 'matplotlib>=3.2.2'\n",
    "!pip install ipympl\n",
    "\n",
    "%matplotlib widget\n",
    "import numpy as np\n",
    "#if np.version.version < '1.19.5' and is_google_colab():\n",
    "#  !pip install --upgrade numpy\n",
    "\n",
    "\n",
    "import matplotlib.cm\n",
    "import matplotlib.pyplot as plt\n",
    "from matplotlib import animation\n",
    "\n",
    "import sys\n",
    "sys.path.append('../')\n",
    "import rtl_sdr_pr.ioutils\n",
    "import rtl_sdr_pr.processing"
   ]
  },
  {
   "cell_type": "markdown",
   "metadata": {
    "id": "vI4djRIdC0zp"
   },
   "source": [
    "## Define Constants\n",
    "\n",
    "Define some common constants for subsequent use."
   ]
  },
  {
   "cell_type": "code",
   "execution_count": null,
   "metadata": {
    "id": "WZUXaw3FC0zq"
   },
   "outputs": [],
   "source": [
    "c = 3e8 # in m/s\n",
    "cpi = 0.1 # in seconds\n",
    "Fs = 2.88e6 # in Hz\n",
    "fc = 625e6 # in Hz"
   ]
  },
  {
   "cell_type": "markdown",
   "metadata": {
    "id": "5nrIwRN-C0zr"
   },
   "source": [
    "## Read Samples\n",
    "\n",
    "Read a few samples from IQ recording. The recording is too big to include it in this repository. Thus the file has to be sourced some other way."
   ]
  },
  {
   "cell_type": "code",
   "execution_count": null,
   "metadata": {
    "id": "W01NNauMC0zs"
   },
   "outputs": [],
   "source": [
    "num_samples = int(cpi * Fs)\n",
    "\n",
    "import zipfile\n",
    "dir = './data/datazip.zip'\n",
    "\n",
    "with zipfile.ZipFile(dir, 'r') as zip_ref:\n",
    "    zip_ref.extractall('data')\n",
    "\n",
    "with open('data/datazip/gqrx_20210326_161137_625000000_2880000_fc_flugplatz_longdipole.raw', 'rb') as fid:\n",
    "    n = rtl_sdr_pr.ioutils.read_samples(fid, num_samples)"
   ]
  },
  {
   "cell_type": "markdown",
   "metadata": {
    "id": "CTt3jw8RC0zt"
   },
   "source": [
    "## Calculate Ambiguity\n",
    "\n",
    "Calculate blind ambiguity of recorded signal with itself. Due to RAM constraints of the current `direct_ambiguity` implementation, processing has to be performed in chunks of `step_size`."
   ]
  },
  {
   "cell_type": "code",
   "execution_count": null,
   "metadata": {
    "id": "h07esP2aC0zt"
   },
   "outputs": [],
   "source": [
    "max_distance = int(50e3)\n",
    "max_delay = int(max_distance / c * Fs)\n",
    "max_speed = 280 # m/s\n",
    "max_doppler = int(max_speed * cpi * fc / c)\n",
    "\n",
    "%time amb = rtl_sdr_pr.processing.fast_ambiguity(max_delay, 2 * max_doppler + 1, n, n)"
   ]
  },
  {
   "cell_type": "markdown",
   "metadata": {
    "id": "H2p4yNX1C0zu"
   },
   "source": [
    "## 2d Line Plot\n",
    "\n",
    "Plot result of blind correlation on 2d line plot. The lines for each doppler bin are layered ontop each other."
   ]
  },
  {
   "cell_type": "code",
   "execution_count": null,
   "metadata": {
    "id": "cwchhlPmC0zu"
   },
   "outputs": [],
   "source": [
    "fig = plt.figure(figsize=(20, 5))\n",
    "ax1 = fig.add_subplot(111)\n",
    "ax1.set_xlabel(\"bistatic range [km]\")\n",
    "ax1.set_ylabel(\"correlation [dB]\")\n",
    "ax1_xticks = np.linspace(0, max_distance / 1000, 22)\n",
    "ax1.set_xticks(ax1_xticks)\n",
    "ax1.plot(np.arange(max_delay) / Fs * c / 1000, 10 * np.log10(np.abs(amb)))\n",
    "\n",
    "ax2 = ax1.twiny()\n",
    "ax2_xticks = np.linspace(0, max_distance / 1000, 22)\n",
    "ax2.set_xticks(ax2_xticks)\n",
    "ax2.set_xticklabels(map(lambda tick: f\"{(tick * 1e9) / 3e8:.0f}\", ax2_xticks))\n",
    "ax2.set_xlim(ax1.get_xlim())\n",
    "ax2.set_xlabel(\"time [µsec]\")\n",
    "plt.title(f\"Correlation of {cpi}sec CPI, Doppler: {1}\", pad=40);\n",
    "\n",
    "ax1.grid()\n",
    "plt.grid(axis='x', alpha=0.5, linestyle='--')\n"
   ]
  },
  {
   "cell_type": "markdown",
   "metadata": {
    "id": "bfjduHSRC0zu"
   },
   "source": [
    "## 3d Surface Plot\n",
    "\n",
    "Plot as 3d surface plot, with bistatic range, bistatic velocity and calculated correlation as the three axis."
   ]
  },
  {
   "cell_type": "code",
   "execution_count": null,
   "metadata": {
    "id": "P4c5eGSdC0zx"
   },
   "outputs": [],
   "source": [
    "X, Y = np.meshgrid(np.arange(amb.shape[0]), np.arange(amb.shape[1]))\n",
    "Z = 10 * np.log10(np.abs(amb))[X, Y]\n",
    "\n",
    "fig, ax = plt.subplots(subplot_kw={\"projection\": \"3d\"}, figsize=(10, 10))\n",
    "ax.plot_surface(X, Y, Z, cmap=matplotlib.cm.Spectral);"
   ]
  },
  {
   "cell_type": "markdown",
   "metadata": {
    "id": "XFGrn4moC0zx"
   },
   "source": [
    "## Range/Doppler Map\n",
    "\n",
    "Plot ambiguity as 2d image, color-coding spots of high correlation. This representation is commonly known as _Range/Doppler Map_."
   ]
  },
  {
   "cell_type": "code",
   "execution_count": null,
   "metadata": {
    "id": "60B79qb1C0zx"
   },
   "outputs": [],
   "source": [
    "fig, ax = plt.subplots(figsize=(10, 5))\n",
    "ax.set_title(\"Range/Doppler Map\")\n",
    "ax.set_xlabel(\"bistatic range [km]\")\n",
    "ax.set_ylabel(\"bistatic velocity [m/s]\")\n",
    "xticks = np.linspace(0, 50e3, 6, endpoint=True)\n",
    "ax.set_xticks(xticks / c * Fs)\n",
    "ax.set_xticklabels(map(lambda x: f\"{x // 1e3:.0f} km\", xticks))\n",
    "\n",
    "yticks = np.linspace(-max_speed, max_speed, 15, endpoint=True)\n",
    "ax.set_yticks((yticks + max_speed) * cpi * fc / c)\n",
    "ax.set_yticklabels(map(lambda y: f\"{y:.0f} m/s\", yticks))\n",
    "plt.imshow(10 * np.log10(np.abs(amb.T)));"
   ]
  },
  {
   "cell_type": "markdown",
   "metadata": {
    "id": "GeXkyABJC0zy"
   },
   "source": [
    "## Animated Range/Doppler Map\n",
    "\n",
    "Plot ambiguity as 2d image over 10 seconds of recorded and analyzed data"
   ]
  },
  {
   "cell_type": "code",
   "execution_count": null,
   "metadata": {
    "id": "PPfZrbmrC0zy"
   },
   "outputs": [],
   "source": [
    "num_frames = 100\n",
    "\n",
    "plt.ioff()\n",
    "\n",
    "fig, ax = plt.subplots(figsize=(10, 5))\n",
    "ax.set_title(\"Range/Doppler Map\")\n",
    "ax.set_xlabel(\"bistatic range [km]\")\n",
    "ax.set_ylabel(\"bistatic velocity [m/s]\")\n",
    "xticks = np.linspace(0, 50e3, 6, endpoint=True)\n",
    "ax.set_xticks(xticks / c * Fs)\n",
    "ax.set_xticklabels(map(lambda x: f\"{x / 1e3:.0f} km\", xticks))\n",
    "\n",
    "yticks = np.linspace(-max_speed, max_speed, 15, endpoint=True)\n",
    "ax.set_yticks((yticks + max_speed) * cpi * fc / c)\n",
    "ax.set_yticklabels(map(lambda y: f\"{y:.0f} m/s\", yticks))\n",
    "\n",
    "with open('data/datazip/gqrx_20210326_161137_625000000_2880000_fc_flugplatz_longdipole.raw', 'rb') as fid:\n",
    "    def render(frame):\n",
    "        n = rtl_sdr_pr.ioutils.read_samples(fid, num_samples, frame * num_samples)\n",
    "        amb = rtl_sdr_pr.processing.fast_ambiguity(max_delay, 2 * max_doppler + 1, n, n).T\n",
    "        return (plt.imshow(10 * np.log10(np.abs(amb))),)\n",
    "\n",
    "    anim = animation.FuncAnimation(fig, render, frames=num_frames, interval=cpi * 1e3)\n",
    "    %time anim.save(\"range-doppler.mp4\")\n",
    "\n",
    "plt.ion();"
   ]
  },
  {
   "cell_type": "code",
   "execution_count": null,
   "metadata": {
    "id": "IZkpQWIbC0zy"
   },
   "outputs": [],
   "source": []
  }
 ],
 "metadata": {
  "colab": {
   "collapsed_sections": [],
   "name": "ambiguity_plot_colab.ipynb",
   "provenance": []
  },
  "kernelspec": {
   "display_name": "Python 3.9.4 64-bit ('.venv': venv)",
   "name": "python394jvsc74a57bd03e33833b60893d7e158dfbace53696d0742d49591d385d44d6c6be7ef239db19"
  },
  "language_info": {
   "codemirror_mode": {
    "name": "ipython",
    "version": 3
   },
   "file_extension": ".py",
   "mimetype": "text/x-python",
   "name": "python",
   "nbconvert_exporter": "python",
   "pygments_lexer": "ipython3",
   "version": "3.9.4"
  },
  "metadata": {
   "interpreter": {
    "hash": "7f6ee532a2444e600c208ce0c299a19c07eb34c1eee86e0081c35da5d9c7f33b"
   }
  }
 },
 "nbformat": 4,
 "nbformat_minor": 0
}
