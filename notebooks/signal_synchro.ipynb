{
 "cells": [
  {
   "cell_type": "markdown",
   "metadata": {},
   "source": [
    "# Signal Synchronization\n"
   ]
  },
  {
   "cell_type": "code",
   "execution_count": null,
   "metadata": {},
   "outputs": [],
   "source": [
    "import io\n",
    "\n",
    "import matplotlib.pyplot as plt\n",
    "\n",
    "import pluto_sdr_pr.ioutils\n",
    "import pluto_sdr_pr.processing\n",
    "import pluto_sdr_pr.signal\n",
    "\n",
    "import numpy as np"
   ]
  },
  {
   "cell_type": "markdown",
   "metadata": {},
   "source": [
    "## Input preparation\n",
    "\n",
    "First, prepare the input sample streams. Print some meta-data about the selected recordings.\n"
   ]
  },
  {
   "cell_type": "code",
   "execution_count": null,
   "metadata": {},
   "outputs": [],
   "source": [
    "ref_file_path = \"data/pluto_a_ref.2021-08-13T17_17_19_487.sdriq\"\n",
    "surv_file_path = \"data/pluto_b_surv.2021-08-13T17_17_22_603.sdriq\"\n",
    "\n",
    "ref = pluto_sdr_pr.ioutils.SdriqSampleIO(ref_file_path)\n",
    "surv = pluto_sdr_pr.ioutils.SdriqSampleIO(surv_file_path)\n",
    "enb = pluto_sdr_pr.signal.ENodeB(6)\n",
    "mss = pluto_sdr_pr.signal.MultiSignalStream()\n",
    "\n",
    "ref_end, surv_end = ref.seek(0, io.SEEK_END), surv.seek(0, io.SEEK_END)\n",
    "\n",
    "print(\n",
    "    f\"There are {ref_end} samples in reference and {surv_end} in surveillance \"\n",
    "    \"channel.\"\n",
    ")\n",
    "num_ref_frames = int(\n",
    "    ref_end // (ref.sample_rate * pluto_sdr_pr.signal.ENodeB.T_FRAME)\n",
    ")\n",
    "\n",
    "num_surv_frames = int(\n",
    "    surv_end // (surv.sample_rate * pluto_sdr_pr.signal.ENodeB.T_FRAME)\n",
    ")\n",
    "\n",
    "print(\n",
    "    f\"This equates to roughly {ref_end / ref.sample_rate:.3f} & \"\n",
    "    f\"{surv_end / surv.sample_rate:.3f} sec of data or \"\n",
    "    f\"{num_ref_frames} & {num_surv_frames} frames\"\n",
    ")"
   ]
  },
  {
   "cell_type": "markdown",
   "metadata": {},
   "source": [
    "## PSS-Only Synchronization\n",
    "\n",
    "First synchronize only based on PSS-correlation. The resulting cell id will tell us only the PSS component of the actual cell id.\n",
    "\n",
    "The result will be a roughly synchronized sample stream.\n"
   ]
  },
  {
   "cell_type": "code",
   "execution_count": null,
   "metadata": {},
   "outputs": [],
   "source": [
    "ref.seek(0), surv.seek(0)\n",
    "num_frames = 12\n",
    "cell_id, pss_correlations, _ = mss.start_synchronized(\n",
    "    ref,\n",
    "    surv,\n",
    "    enb=enb,\n",
    "    num_frames=num_frames,\n",
    "    pss_only=True,\n",
    ")\n",
    "print(f\"Cell ID: {cell_id}\")\n",
    "\n",
    "samples = mss.read(num_samples=10)\n",
    "print(f\"Read {samples[0].shape[0]} samples from inputs \"\n",
    "      f\"{[str(sample_block.source) for sample_block in samples]}\"\n",
    ")"
   ]
  },
  {
   "cell_type": "markdown",
   "metadata": {},
   "source": [
    "## Plot Correlation Results\n",
    "\n",
    "The synchronization function provides the correlation results as debug output. We can plot those to visually verify the result.\n"
   ]
  },
  {
   "cell_type": "code",
   "execution_count": null,
   "metadata": {},
   "outputs": [],
   "source": [
    "num_pss = len(pss_correlations)\n",
    "fig, axs = plt.subplots(\n",
    "    num_pss, pss_correlations[0].magnitudes.shape[0], figsize=(20, 10)\n",
    ")\n",
    "\n",
    "for ax_row, correlations in zip(axs, pss_correlations):\n",
    "    for idx, (ax, corr) in enumerate(zip(ax_row, correlations.magnitudes)):\n",
    "        norm_corr = (\n",
    "            corr / correlations.max_magnitude[correlations.max_peak_index[1]]\n",
    "        )\n",
    "        time = np.arange(norm_corr.shape[0]) / correlations.sample_rate\n",
    "        ax.plot(time, norm_corr, \"tab:red\" if idx == 1 else \"tab:blue\")\n",
    "        ax.set_xticks(\n",
    "            np.linspace(0, num_frames * pluto_sdr_pr.signal.ENodeB.T_FRAME, 6)\n",
    "        )\n",
    "        ax.set_yticks(np.linspace(0, 1, 6))\n",
    "        ax.set_ylim(0, 1.1)\n",
    "        ax.grid(True)"
   ]
  }
 ],
 "metadata": {
  "interpreter": {
   "hash": "c502ac82227aa492ad11bc03e4415de6238eb8e133bca9c4bb1ae46639956358"
  },
  "kernelspec": {
   "display_name": "Python 3.9.6 64-bit",
   "name": "python3"
  },
  "language_info": {
   "codemirror_mode": {
    "name": "ipython",
    "version": 3
   },
   "file_extension": ".py",
   "mimetype": "text/x-python",
   "name": "python",
   "nbconvert_exporter": "python",
   "pygments_lexer": "ipython3",
   "version": "3.9.6"
  }
 },
 "nbformat": 4,
 "nbformat_minor": 2
}
