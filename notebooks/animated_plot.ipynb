{
 "cells": [
  {
   "cell_type": "markdown",
   "metadata": {},
   "source": [
    "# Range/Doppler Animation\n",
    "\n",
    "This notebook calculates the CAF and renders an animated plot over a specified amount of (world-)time."
   ]
  },
  {
   "cell_type": "markdown",
   "metadata": {},
   "source": [
    "## Setup"
   ]
  },
  {
   "cell_type": "code",
   "execution_count": null,
   "metadata": {},
   "outputs": [],
   "source": [
    "%matplotlib widget\n",
    "\n",
    "import numpy as np\n",
    "\n",
    "import matplotlib as mpl\n",
    "import matplotlib.pyplot as plt\n",
    "from matplotlib import animation\n",
    "\n",
    "import multiprocessing as mp\n",
    "\n",
    "import collections\n",
    "\n",
    "import typing\n",
    "import numpy.typing as npt\n",
    "\n",
    "import sys\n",
    "sys.path.append('../')\n",
    "import rtl_sdr_pr.ioutils\n",
    "import rtl_sdr_pr.processing"
   ]
  },
  {
   "cell_type": "markdown",
   "metadata": {},
   "source": [
    "## Constants"
   ]
  },
  {
   "cell_type": "code",
   "execution_count": null,
   "metadata": {},
   "outputs": [],
   "source": [
    "c = 3e8 # in meters per second\n",
    "Fs = 2.88e6 # in Hertz\n",
    "fc = 625e6 # in Hertz"
   ]
  },
  {
   "cell_type": "markdown",
   "metadata": {},
   "source": [
    "## Plot Parameters"
   ]
  },
  {
   "cell_type": "code",
   "execution_count": null,
   "metadata": {},
   "outputs": [],
   "source": [
    "cpi = 1 # in seconds\n",
    "num_samples = int(cpi * Fs)\n",
    "time_window = 100 # in seconds\n",
    "num_frames = int(time_window // cpi)\n",
    "max_distance = int(50e3) # in meters\n",
    "max_delay = int(max_distance / c * Fs)\n",
    "max_speed = 280 # in meters per second\n",
    "max_doppler = int(max_speed * cpi * fc / c)"
   ]
  },
  {
   "cell_type": "markdown",
   "metadata": {},
   "source": [
    "## Rendering"
   ]
  },
  {
   "cell_type": "code",
   "execution_count": null,
   "metadata": {},
   "outputs": [],
   "source": [
    "%%time\n",
    "\n",
    "def calculate_absolute_ambiguity(file_path: str, frame: int):\n",
    "    with open(file_path, 'rb') as fid:\n",
    "        n = rtl_sdr_pr.ioutils.read_samples(fid, num_samples, frame * num_samples)\n",
    "        amb = rtl_sdr_pr.processing.fast_ambiguity(max_delay, 2 * max_doppler + 1, n, n).T\n",
    "        return {frame: np.abs(amb)}\n",
    "\n",
    "def render_frame(frame_stack: np.ndarray, frame: int, num_frames: int, cpi: float) -> typing.Tuple[mpl.artist.Artist, mpl.artist.Artist]:\n",
    "    return (plt.imshow(frame_stack[:, :, frame], interpolation='nearest', aspect='auto'),\n",
    "            plt.text(0, -1.5, f\"frame: {frame + 1}/{num_frames + 1} {frame * cpi:.1f} sec\"))\n",
    "\n",
    "plt.ioff()\n",
    "\n",
    "fig, ax = plt.subplots(figsize=(19.2, 10.8))\n",
    "ax.set_title(\"Range/Doppler Map\")\n",
    "ax.set_xlabel(\"bistatic range [km]\")\n",
    "ax.set_ylabel(\"bistatic velocity [m/s]\")\n",
    "xticks = np.linspace(0, 50e3, 6, endpoint=True)\n",
    "ax.set_xticks(xticks / c * Fs)\n",
    "ax.set_xticklabels(map(lambda x: f\"{x / 1e3:.0f} km\", xticks))\n",
    "\n",
    "yticks = np.linspace(-max_speed, max_speed, 15, endpoint=True)\n",
    "ax.set_yticks((yticks + max_speed) * cpi * fc / c)\n",
    "ax.set_yticklabels(map(lambda y: f\"{y:.0f} m/s\", yticks))\n",
    "\n",
    "file_path = '../data/gqrx_20210326_161137_625000000_2880000_fc_flugplatz_longdipole.raw'\n",
    "\n",
    "with mp.Pool() as pool:\n",
    "    frames = pool.starmap(calculate_absolute_ambiguity, [(file_path, frame) for frame in range(num_frames)])\n",
    "\n",
    "frame_chain = collections.ChainMap(*frames)\n",
    "frame_stack = np.stack(tuple((frame_chain[frame] for frame in sorted(frame_chain))), axis=2)\n",
    "frame_stack = 10 * np.log10(np.divide(frame_stack, np.max(frame_stack)))\n",
    "\n",
    "anim = animation.ArtistAnimation(fig, [render_frame(frame_stack, frame, num_frames, cpi) for frame in range(frame_stack.shape[2])], interval=cpi * 1e3)\n",
    "anim.save(\"range-doppler.mp4\", writer=animation.FFMpegWriter(fps=1 / cpi, codec='png'), dpi=100)\n",
    "del anim, fig, ax\n",
    "\n",
    "plt.ion()"
   ]
  },
  {
   "cell_type": "code",
   "execution_count": null,
   "metadata": {},
   "outputs": [],
   "source": []
  }
 ],
 "metadata": {
  "kernelspec": {
   "display_name": "Python 3.9.5 64-bit ('.venv': venv)",
   "language": "python",
   "name": "python395jvsc74a57bd03e33833b60893d7e158dfbace53696d0742d49591d385d44d6c6be7ef239db19"
  },
  "language_info": {
   "codemirror_mode": {
    "name": "ipython",
    "version": 3
   },
   "file_extension": ".py",
   "mimetype": "text/x-python",
   "name": "python",
   "nbconvert_exporter": "python",
   "pygments_lexer": "ipython3",
   "version": "3.9.5"
  }
 },
 "nbformat": 4,
 "nbformat_minor": 2
}
