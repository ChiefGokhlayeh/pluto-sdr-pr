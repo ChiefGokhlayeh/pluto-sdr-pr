{
 "cells": [
  {
   "cell_type": "markdown",
   "metadata": {},
   "source": [
    "# CLEAN Algorithm\n",
    "\n",
    "Based on \"The CLEAN type algorithms for radar signal processing\" by [Kulpa (2008)](https://ieeexplore.ieee.org/document/4669567)."
   ]
  },
  {
   "cell_type": "code",
   "execution_count": null,
   "metadata": {},
   "outputs": [],
   "source": [
    "import numpy as np\n",
    "import matplotlib.pyplot as plt\n",
    "\n",
    "import pluto_sdr_pr.ioutils\n",
    "import pluto_sdr_pr.signal\n",
    "import pluto_sdr_pr.processing"
   ]
  },
  {
   "cell_type": "code",
   "execution_count": null,
   "metadata": {},
   "outputs": [],
   "source": [
    "c = 3e8\n",
    "cpi = 0.1\n",
    "num_frames = 12\n",
    "time_skip_after_sync = 10"
   ]
  },
  {
   "cell_type": "code",
   "execution_count": null,
   "metadata": {},
   "outputs": [],
   "source": [
    "ref_file_path = \"data/pluto_a_ref.2021-08-13T17_56_09_570.sdriq\"\n",
    "surv_file_path = \"data/pluto_b_surv.2021-08-13T17_56_12_704.sdriq\"\n",
    "\n",
    "ref = pluto_sdr_pr.ioutils.SdriqSampleIO(ref_file_path)\n",
    "surv = pluto_sdr_pr.ioutils.SdriqSampleIO(surv_file_path)\n",
    "enb = pluto_sdr_pr.signal.ENodeB(6)\n",
    "mss = pluto_sdr_pr.signal.MultiSignalStream()\n",
    "\n",
    "cell_id, pss_correlations, _ = mss.start_synchronized(\n",
    "    ref,\n",
    "    surv,\n",
    "    enb=enb,\n",
    "    num_frames=num_frames,\n",
    "    pss_only=True,\n",
    ")\n",
    "\n",
    "_ = ref.seek(time_skip_after_sync * ref.sample_rate)\n",
    "_ = surv.seek(time_skip_after_sync * surv.sample_rate)"
   ]
  },
  {
   "cell_type": "code",
   "execution_count": null,
   "metadata": {},
   "outputs": [],
   "source": [
    "def calc_plot_parameters(sampling_rate, cpi, center_freq, max_distance=50e3, max_speed=280):\n",
    "    num_samples = int(cpi * sampling_rate)\n",
    "    max_delay = int(max_distance / c * sampling_rate)\n",
    "    max_doppler = int(max_speed * cpi * center_freq / c)\n",
    "    return (num_samples, max_delay, max_distance, max_doppler, max_speed)"
   ]
  },
  {
   "cell_type": "code",
   "execution_count": null,
   "metadata": {},
   "outputs": [],
   "source": [
    "def plot_ambiguity(amb, sample_rate, center_frequency, ax = None):\n",
    "    if ax == None:\n",
    "        fig = plt.figure()\n",
    "        ax = fig.add_subplot(1, 1, 1)\n",
    "\n",
    "    ax.set_xlabel(\"bistatic range [km]\")\n",
    "    ax.set_ylabel(\"bistatic velocity [m/s]\")\n",
    "    xticks = np.linspace(0, 50e3, 6, endpoint=True)\n",
    "    ax.set_xticks(xticks / c * sample_rate)\n",
    "    ax.set_xticklabels(map(lambda x: f\"{x // 1e3:.0f} km\", xticks))\n",
    "\n",
    "    yticks = np.linspace(-max_speed, max_speed, 9, endpoint=True)\n",
    "    ax.set_yticks((yticks + max_speed) * cpi * center_frequency / c)\n",
    "    ax.set_yticklabels(map(lambda y: f\"{y:.0f} m/s\", yticks))\n",
    "\n",
    "    ax.imshow(np.log10(np.abs(amb.T)))\n",
    "\n",
    "    return ax"
   ]
  },
  {
   "cell_type": "code",
   "execution_count": null,
   "metadata": {},
   "outputs": [],
   "source": [
    "num_samples, max_delay, max_distance, max_doppler, max_speed = (\n",
    "    calc_plot_parameters(ref.sample_rate, cpi, ref.center_frequency)\n",
    ")\n",
    "\n",
    "ref_samples, surv_samples = mss.read(num_samples=num_samples)\n",
    "\n",
    "assert ref_samples.source == ref and surv_samples.source == surv\n",
    "\n",
    "def ambfun(ref_samples, surv_samples):\n",
    "    amb = pluto_sdr_pr.processing.fast_ambiguity(\n",
    "        max_delay,\n",
    "        max_doppler * 2 + 1,\n",
    "        ref_samples,\n",
    "        surv_samples,\n",
    "    )\n",
    "\n",
    "    f = plt.figure(figsize=(20, 10))\n",
    "    ax = plot_ambiguity(\n",
    "        amb,\n",
    "        ref.sample_rate,\n",
    "        ref.center_frequency,\n",
    "        ax=f.add_subplot(1, 1, 1)\n",
    "    )\n",
    "    ax.set_title(\"Pre-CLEAN Range/Doppler Map\")\n",
    "\n",
    "    return amb\n",
    "\n",
    "cleaned_surv_samples, _ = pluto_sdr_pr.processing.clean(\n",
    "    ref_samples,\n",
    "    surv_samples,\n",
    "    ambfun\n",
    ")\n",
    "\n",
    "amb = pluto_sdr_pr.processing.fast_ambiguity(\n",
    "    max_delay,\n",
    "    max_doppler * 2 + 1,\n",
    "    ref_samples,\n",
    "    cleaned_surv_samples,\n",
    ")\n",
    "\n",
    "f = plt.figure(figsize=(20, 10))\n",
    "ax = plot_ambiguity(\n",
    "    amb,\n",
    "    ref.sample_rate,\n",
    "    ref.center_frequency,\n",
    "    ax=f.add_subplot(1, 1, 1)\n",
    ")\n",
    "_ = ax.set_title(\"Post-CLEAN Range/Doppler Map\")"
   ]
  }
 ],
 "metadata": {
  "interpreter": {
   "hash": "51193c38255233c039128d1537580d0b6d93a10c892d785e9d0e9fae81eaa714"
  },
  "kernelspec": {
   "display_name": "Python 3.9.6 64-bit (conda)",
   "name": "python3"
  },
  "language_info": {
   "codemirror_mode": {
    "name": "ipython",
    "version": 3
   },
   "file_extension": ".py",
   "mimetype": "text/x-python",
   "name": "python",
   "nbconvert_exporter": "python",
   "pygments_lexer": "ipython3",
   "version": "3.9.6"
  }
 },
 "nbformat": 4,
 "nbformat_minor": 2
}
