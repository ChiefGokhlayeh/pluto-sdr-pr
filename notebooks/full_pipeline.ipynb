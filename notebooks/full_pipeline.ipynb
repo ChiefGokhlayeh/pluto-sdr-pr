{
 "cells": [
  {
   "cell_type": "markdown",
   "metadata": {},
   "source": [
    "# Full Pipeline\n",
    "\n",
    "This script this intents to demonstrate the full processing pipeline.\n"
   ]
  },
  {
   "cell_type": "code",
   "execution_count": null,
   "metadata": {},
   "outputs": [],
   "source": [
    "from pluto_sdr_pr.ioutils import SdriqSampleIO\n",
    "from pluto_sdr_pr.processing import clean, fast_ambiguity\n",
    "from pluto_sdr_pr.signal import ENodeB, MultiSignalStream\n",
    "from scipy.constants import c\n",
    "\n",
    "import matplotlib.pyplot as plt\n",
    "import numpy as np\n",
    "\n",
    "import os"
   ]
  },
  {
   "cell_type": "code",
   "execution_count": null,
   "metadata": {},
   "outputs": [],
   "source": [
    "reference_file_path = \"data/pluto_a_ref.2021-08-13T17_56_09_570.sdriq\"\n",
    "surveillance_file_path = \"data/pluto_b_surv.2021-08-13T17_56_12_704.sdriq\"\n",
    "\n",
    "num_frames = 40\n",
    "\n",
    "reference_io = SdriqSampleIO(reference_file_path)\n",
    "surveillance_io = SdriqSampleIO(surveillance_file_path)\n",
    "\n",
    "enb = ENodeB(num_resource_blocks=25)\n",
    "\n",
    "cpi = 0.5 # seconds\n",
    "max_distance = 20e3\n",
    "max_velocity = 1000 # meters / second\n",
    "\n",
    "din_dimensions = (11.69, 8.27)"
   ]
  },
  {
   "cell_type": "code",
   "execution_count": null,
   "metadata": {},
   "outputs": [],
   "source": [
    "mss = MultiSignalStream()\n",
    "cell_id, pss_correlations, _ = mss.start_synchronized(\n",
    "    reference_io, surveillance_io, enb=enb, pss_only=True, num_frames=num_frames\n",
    ")\n",
    "print(f\"Cell ID: {cell_id}\")"
   ]
  },
  {
   "cell_type": "code",
   "execution_count": null,
   "metadata": {},
   "outputs": [],
   "source": [
    "fig = plt.figure(constrained_layout=True, figsize=din_dimensions)\n",
    "fig.suptitle(\"PSS Korrelationsergebnisse\", fontsize=16, fontweight=\"bold\")\n",
    "subfigs = fig.subfigures(len(pss_correlations), 1)\n",
    "row_titles = [\"Referenzkanal\", \"Überwachungskanal\"]\n",
    "\n",
    "for (row, subfig), corr_result in zip(enumerate(subfigs), pss_correlations):\n",
    "    subfig.suptitle(f\"{row_titles[row]}\", fontsize=14)\n",
    "    axs = subfig.subplots(1, corr_result.magnitudes.shape[0])\n",
    "    for (col, ax), corr in zip(enumerate(axs), corr_result.magnitudes):\n",
    "        norm_corr = (\n",
    "            corr / corr_result.max_magnitude[corr_result.max_peak_index[1]]\n",
    "        )\n",
    "        time = np.arange(norm_corr.shape[0]) / corr_result.sample_rate\n",
    "\n",
    "        ax.plot(time, norm_corr, \"tab:red\" if col == 1 else \"tab:blue\")\n",
    "        ax.set_title(f\"Sequenz {col + 1}\")\n",
    "        ax.set_xlabel(\"Zeit [s]\")\n",
    "        ax.set_ylabel(\"Korrelation [norm]\")\n",
    "        ax.set_xticks(\n",
    "            np.linspace(0, num_frames * ENodeB.T_FRAME, num_frames // 10 + 1)\n",
    "        )\n",
    "        ax.set_xlim(0, num_frames * ENodeB.T_FRAME)\n",
    "        ax.set_yticks(np.linspace(0, 1, 6))\n",
    "        ax.set_ylim(0, 1.05)\n",
    "        ax.grid()\n",
    "\n",
    "output_dir = \"docu/images/generated\"\n",
    "os.makedirs(output_dir, exist_ok=True)\n",
    "fig.savefig(os.path.join(output_dir, \"pss_correlation_results.svg\"))"
   ]
  },
  {
   "cell_type": "code",
   "execution_count": null,
   "metadata": {},
   "outputs": [],
   "source": [
    "sample_rate = reference_io.sample_rate\n",
    "center_freq = reference_io.center_frequency\n",
    "delay_bins = int(max_distance / c * sample_rate)\n",
    "freq_bins = int(max_velocity * cpi * center_freq / c)\n",
    "\n",
    "ref_samples, surv_samples = mss.read(int(cpi * sample_rate))\n",
    "\n",
    "amb_pre_clean = fast_ambiguity(delay_bins, freq_bins, ref_samples, surv_samples)\n",
    "amb_abs_pre_clean = np.abs(amb_pre_clean)"
   ]
  },
  {
   "cell_type": "code",
   "execution_count": null,
   "metadata": {},
   "outputs": [],
   "source": [
    "surv_samples_cleaned, _ = clean(\n",
    "    ref_samples,\n",
    "    surv_samples,\n",
    "    ambfun=lambda ref, surv: fast_ambiguity(delay_bins, freq_bins, ref, surv)\n",
    ")\n",
    "\n",
    "amb_post_clean = fast_ambiguity(\n",
    "    delay_bins, freq_bins, ref_samples, surv_samples_cleaned\n",
    ")\n",
    "amb_abs_post_clean = np.abs(amb_post_clean)"
   ]
  },
  {
   "cell_type": "code",
   "execution_count": null,
   "metadata": {},
   "outputs": [],
   "source": [
    "x = np.arange(amb_pre_clean.shape[0])\n",
    "y = np.arange(amb_pre_clean.shape[1])\n",
    "X, Y = np.meshgrid(x, y) \n",
    "\n",
    "fig = plt.figure(figsize=(din_dimensions[0], 4))\n",
    "ax = fig.add_subplot(1, 3, (1, 2))\n",
    "ax.imshow(\n",
    "    amb_abs_pre_clean.T,\n",
    "    interpolation=\"nearest\",\n",
    "    aspect=\"auto\",\n",
    "    cmap=\"twilight\"\n",
    ")\n",
    "ax.set_yticks(np.linspace(0, freq_bins, 9, endpoint=True))\n",
    "ax.set_yticklabels(\n",
    "    map(lambda y: f\"{y - freq_bins // 2:.0f}\", ax.get_yticks())\n",
    ")\n",
    "ax.set_xlabel(\"Entfernung\")\n",
    "ax.set_ylabel(\"Doppler\")\n",
    "ax = fig.add_subplot(1, 3, 3, projection=\"3d\")\n",
    "ax.plot_surface(\n",
    "    X, Y, amb_abs_pre_clean.T / amb_abs_pre_clean.max(), cmap=\"inferno\"\n",
    ")\n",
    "ax.set_xlabel(\"Entfernung\")\n",
    "ax.set_ylabel(\"Doppler\")\n",
    "fig.tight_layout()\n",
    "\n",
    "fig = plt.figure(figsize=(din_dimensions[0], 4))\n",
    "ax = fig.add_subplot(1, 3, (1, 2))\n",
    "ax.imshow(\n",
    "    amb_abs_post_clean.T,\n",
    "    interpolation=\"antialiased\",\n",
    "    aspect=\"auto\",\n",
    "    cmap=\"twilight\"\n",
    ")\n",
    "ax.set_yticks(np.linspace(0, freq_bins, 9, endpoint=True))\n",
    "ax.set_yticklabels(\n",
    "    map(lambda y: f\"{y - freq_bins // 2:.0f}\", ax.get_yticks())\n",
    ")\n",
    "ax.set_xlabel(\"Entfernung\")\n",
    "ax.set_ylabel(\"Doppler\")\n",
    "ax = fig.add_subplot(1, 3, 3, projection=\"3d\")\n",
    "ax.plot_surface(\n",
    "    X, Y, amb_abs_post_clean.T / amb_abs_post_clean.max(), cmap=\"inferno\"\n",
    ")\n",
    "ax.set_xlabel(\"Entfernung\")\n",
    "ax.set_ylabel(\"Doppler\")\n",
    "fig.tight_layout()\n",
    "\n",
    "\n",
    "np.max(amb_post_clean)"
   ]
  }
 ],
 "metadata": {
  "interpreter": {
   "hash": "fde990def97287bb76562caa0cd65114e347f8845134cc11af7cbf8a165961c9"
  },
  "kernelspec": {
   "display_name": "Python 3.9.6 64-bit (conda)",
   "name": "python3"
  },
  "language_info": {
   "codemirror_mode": {
    "name": "ipython",
    "version": 3
   },
   "file_extension": ".py",
   "mimetype": "text/x-python",
   "name": "python",
   "nbconvert_exporter": "python",
   "pygments_lexer": "ipython3",
   "version": "3.9.6"
  }
 },
 "nbformat": 4,
 "nbformat_minor": 2
}
